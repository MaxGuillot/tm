{
 "cells": [
  {
   "cell_type": "markdown",
   "metadata": {},
   "source": [
    "# The json thing\n",
    "Let us face it: json files are pretty much everywhere whenever Open Data lies. One would appreciate working with free and mostly accurate data. One would usually not enjoy the pain of nested files dumped as a json.\n",
    "\n",
    "Sure, many nice things can be achieved with some efforts, as in this tutorial from [phpflow](https://www.phpflow.com/php/parse-json-data-jquery-datatable/):\n",
    "\n",
    "![Good looking, right?](img/parse-json-data-jquery.png)\n",
    "\n",
    "Although when it comes to OpenData, with data coming from [Assemblée Nationale Open Data portal](http://data.assemblee-nationale.fr/static/openData/repository/AMO/tous_acteurs_mandats_organes_xi_legislature/AMO30_tous_acteurs_tous_mandats_tous_organes_historique.json.zip), what you get is the following :"
   ]
  },
  {
   "cell_type": "code",
   "execution_count": 2,
   "metadata": {
    "collapsed": false
   },
   "outputs": [
    {
     "name": "stdout",
     "output_type": "stream",
     "text": [
      "{\"export\": {\"@xmlns:xsi\": \"http://www.w3.org/2001/XMLSchema-instance\", \"organes\"\n",
      ": {\"organe\": [{\"@xsi:type\": \"OrganeParlementaire_Type\", \"uid\": \"PO428704\", \"code\n",
      "Type\": \"CMP\", \"libelle\": \"Commission mixte paritaire charg\\u00e9e de proposer un\n",
      " texte sur les dispositions restant en discussion de la proposition de loi de li\n",
      "b\\u00e9ralisation des ventes volontaires de meubles aux ench\\u00e8res publiques\"\n",
      ", \"libelleEdition\": \"de la proposition de loi de lib\\u00e9ralisation des ventes \n",
      "volontaires de meubles aux ench\\u00e8res publiques\", \"libelleAbrege\": \"Ventes au\n",
      "x ench\\u00e8res publiques\", \"libelleAbrev\": \"210-07-08\", \"viMoDe\": {\"dateDebut\":\n",
      " \"2011-06-01\", \"dateAgrement\": null, \"dateFin\": \"2011-07-25\"}, \"regime\": \"5\\u00e\n",
      "8me R\\u00e9publique\", \"legislature\": \"13\", \"secretariat\": {\"secretaire01\": null,\n",
      " \"secretaire02\": null}}, {\"@xsi:type\": \"OrganeParlementaire_Type\", \"uid\": \"PO428\n",
      "765\", \"codeType\": \"CNPE\", \"libelle\": \"Commission d'enqu\\u00eate sur les produits\n",
      " financiers \\u00e0 risque souscrits par les acteurs publics locaux\", \"libelleEdi\n",
      "tion\": \"de la commission d'enqu\\u00eate sur les produits financiers \\u00e0 risqu\n",
      "e souscrits par les acteurs publics locaux\", \"libelleAbrege\": \"Commission d'enqu\n",
      "\\u00eate Produits financiers \\u00e0 risque\", \"libelleAbrev\": \"CEPDTSFIN\", \"viMoD\n",
      "e\": {\"dateDebut\": \"2011-06-08\", \"dateAgrement\": null, \"dateFin\": \"2011-12-06\"}, \n",
      "\"regime\": \"5\\u00e8me R\\u00e9publique\", \"legislature\": \"13\", \"secretariat\": {\"sec\n",
      "retaire01\": null, \"secretaire02\": null}}, {\"@xsi:type\": \"OrganeParlementaire_Typ\n",
      "e\", \"uid\": \"PO428772\", \"codeType\": \"CNPE\", \"libelle\": \"Commission d'enqu\\u00eate\n",
      " sur les m\\u00e9canismes de financement des organisations syndicales d'employeur\n",
      "s et de salari\\u00e9s\", \"libelleEdition\": \"de la commission d'enqu\\u00eate sur l\n",
      "es m\\u00e9canismes de financement des organisations syndicales d'employeurs et d\n",
      "\u001b[K"
     ]
    }
   ],
   "source": [
    "more data/AMO30_tous_acteurs_tous_mandats_tous_organes_historique.json"
   ]
  },
  {
   "cell_type": "markdown",
   "metadata": {},
   "source": [
    "Were you proficient in french, you would still not enjoy this sight. Nonetheless, how can this be prettyed?\n",
    "\n",
    "What about [the pretty tweet](Pretty%20Tweet.ipynb)? Well, it would take way too long. Just thing of Go-sized files. That will not do it.\n",
    "\n",
    "# jq\n",
    "\n",
    "This [project](https://github.com/stedolan/jq) is an efficient key to solve this issue. As written in the documentation, jq aims to serve as a sed for json files.\n",
    "\n",
    "One can install it on its distribution through the relevant packet manager, be it linux, Mac or Cygwin for Windows.\n",
    "\n",
    "Then, on a shell, you can invoke jq with the following sequence :\n",
    "__jq 'args' 'filter' 'file'__\n",
    "\n",
    "## Pretty json\n",
    "\n",
    "That feat is obtained with the __.__ filter:"
   ]
  },
  {
   "cell_type": "code",
   "execution_count": 5,
   "metadata": {
    "collapsed": false
   },
   "outputs": [
    {
     "name": "stdout",
     "output_type": "stream",
     "text": [
      "{\n",
      "  \"export\": {\n",
      "    \"@xmlns:xsi\": \"http://www.w3.org/2001/XMLSchema-instance\",\n",
      "    \"organes\": {\n",
      "      \"organe\": [\n",
      "        {\n",
      "          \"@xsi:type\": \"OrganeParlementaire_Type\",\n",
      "          \"uid\": \"PO428704\",\n",
      "          \"codeType\": \"CMP\",\n",
      "          \"libelle\": \"Commission mixte paritaire chargée de proposer un texte su\n",
      "r les dispositions restant en discussion de la proposition de loi de libéralisat\n",
      "ion des ventes volontaires de meubles aux enchères publiques\",\n",
      "          \"libelleEdition\": \"de la proposition de loi de libéralisation des vent\n",
      "es volontaires de meubles aux enchères publiques\",\n",
      "          \"libelleAbrege\": \"Ventes aux enchères publiques\",\n",
      "          \"libelleAbrev\": \"210-07-08\",\n",
      "          \"viMoDe\": {\n",
      "            \"dateDebut\": \"2011-06-01\",\n",
      "            \"dateAgrement\": null,\n",
      "            \"dateFin\": \"2011-07-25\"\n",
      "          },\n",
      "          \"regime\": \"5ème République\",\n",
      "          \"legislature\": \"13\",\n",
      "\u001b[K\n"
     ]
    }
   ],
   "source": [
    "jq . data/AMO30_tous_acteurs_tous_mandats_tous_organes_historique.json | more"
   ]
  },
  {
   "cell_type": "markdown",
   "metadata": {},
   "source": [
    "Well done. It took a relative short amount of time and it does work. Note that jq will fail if the json file is not a valid json. In that case, you can use _-f_ argument to force jq, but the propper approach would still to clean the file.\n",
    "\n",
    "As one would guess, the filter __.featureName__ will display the insides of said feature. What if the json is not a flat file? What about multiple layers?"
   ]
  },
  {
   "cell_type": "markdown",
   "metadata": {},
   "source": [
    "## Piping filters\n",
    "\n",
    "OK, the file is nice. That's great. Apparently, it has an _export / organes /organe[]_ sequence. How to get there? Just piping with __|__ the filters until the destination is reached. Let's have a look at the fifth _organe_:"
   ]
  },
  {
   "cell_type": "code",
   "execution_count": null,
   "metadata": {
    "collapsed": true
   },
   "outputs": [],
   "source": [
    "jq '.export | .organes | .organe | .[4]' data/AMO30_tous_acteurs_tous_mandats_tous_organes_historique.json"
   ]
  },
  {
   "cell_type": "markdown",
   "metadata": {},
   "source": [
    "Basically, what we did was piping successive requests, from the outer layer of json to the inner. It can translate into _get me the fifth element of the organe table that is in organes object, itself contained in export object_.\n",
    "\n",
    "Well, to access the _n-th_ of an arry in jq, juste type __.[n-1]__. \n",
    "\n",
    "Do note that piping through properties can be written with the following syntax as well:"
   ]
  },
  {
   "cell_type": "code",
   "execution_count": 8,
   "metadata": {
    "collapsed": false
   },
   "outputs": [
    {
     "name": "stdout",
     "output_type": "stream",
     "text": [
      "\u001b[1;39m{\n",
      "  \u001b[0m\u001b[34;1m\"@xsi:type\"\u001b[0m\u001b[1;39m: \u001b[0m\u001b[0;32m\"OrganeParlementaire_Type\"\u001b[0m\u001b[1;39m,\n",
      "  \u001b[0m\u001b[34;1m\"uid\"\u001b[0m\u001b[1;39m: \u001b[0m\u001b[0;32m\"PO428784\"\u001b[0m\u001b[1;39m,\n",
      "  \u001b[0m\u001b[34;1m\"codeType\"\u001b[0m\u001b[1;39m: \u001b[0m\u001b[0;32m\"CMP\"\u001b[0m\u001b[1;39m,\n",
      "  \u001b[0m\u001b[34;1m\"libelle\"\u001b[0m\u001b[1;39m: \u001b[0m\u001b[0;32m\"Commission mixte paritaire chargée de proposer un texte sur les dispositions restant en discussion du projet de loi relatif à la bioéthique\"\u001b[0m\u001b[1;39m,\n",
      "  \u001b[0m\u001b[34;1m\"libelleEdition\"\u001b[0m\u001b[1;39m: \u001b[0m\u001b[0;32m\"du projet de loi relatif à la bioéthique\"\u001b[0m\u001b[1;39m,\n",
      "  \u001b[0m\u001b[34;1m\"libelleAbrege\"\u001b[0m\u001b[1;39m: \u001b[0m\u001b[0;32m\"bioéthique\"\u001b[0m\u001b[1;39m,\n",
      "  \u001b[0m\u001b[34;1m\"libelleAbrev\"\u001b[0m\u001b[1;39m: \u001b[0m\u001b[0;32m\"2911\"\u001b[0m\u001b[1;39m,\n",
      "  \u001b[0m\u001b[34;1m\"viMoDe\"\u001b[0m\u001b[1;39m: \u001b[0m\u001b[1;39m{\n",
      "    \u001b[0m\u001b[34;1m\"dateDebut\"\u001b[0m\u001b[1;39m: \u001b[0m\u001b[0;32m\"2011-06-10\"\u001b[0m\u001b[1;39m,\n",
      "    \u001b[0m\u001b[34;1m\"dateAgrement\"\u001b[0m\u001b[1;39m: \u001b[0m\u001b[1;30mnull\u001b[0m\u001b[1;39m,\n",
      "    \u001b[0m\u001b[34;1m\"dateFin\"\u001b[0m\u001b[1;39m: \u001b[0m\u001b[0;32m\"2011-07-25\"\u001b[0m\u001b[1;39m\n",
      "  \u001b[1;39m}\u001b[0m\u001b[1;39m,\n",
      "  \u001b[0m\u001b[34;1m\"regime\"\u001b[0m\u001b[1;39m: \u001b[0m\u001b[0;32m\"5ème République\"\u001b[0m\u001b[1;39m,\n",
      "  \u001b[0m\u001b[34;1m\"legislature\"\u001b[0m\u001b[1;39m: \u001b[0m\u001b[0;32m\"13\"\u001b[0m\u001b[1;39m,\n",
      "  \u001b[0m\u001b[34;1m\"secretariat\"\u001b[0m\u001b[1;39m: \u001b[0m\u001b[1;39m{\n",
      "    \u001b[0m\u001b[34;1m\"secretaire01\"\u001b[0m\u001b[1;39m: \u001b[0m\u001b[1;30mnull\u001b[0m\u001b[1;39m,\n",
      "    \u001b[0m\u001b[34;1m\"secretaire02\"\u001b[0m\u001b[1;39m: \u001b[0m\u001b[1;30mnull\u001b[0m\u001b[1;39m\n",
      "  \u001b[1;39m}\u001b[0m\u001b[1;39m\n",
      "\u001b[1;39m}\u001b[0m\n"
     ]
    }
   ],
   "source": [
    "jq '.export.organes.organe[4]' data/AMO30_tous_acteurs_tous_mandats_tous_organes_historique.json"
   ]
  },
  {
   "cell_type": "markdown",
   "metadata": {},
   "source": [
    "You might want the latter syntax for it is shorter, and maybe more understandable if you come from object -oriented programming.\n",
    "\n",
    "## Playing with arrays!\n",
    "\n",
    "Let's say that the previous is not enough, and that we want to get the abridged names for every _organe_. This can be achieved by lefting the__[]__ empty."
   ]
  },
  {
   "cell_type": "code",
   "execution_count": 12,
   "metadata": {
    "collapsed": false
   },
   "outputs": [
    {
     "name": "stdout",
     "output_type": "stream",
     "text": [
      "\"Ventes aux enchères publiques\"\n",
      "\"Commission d'enquête Produits financiers à risque\"\n",
      "\"Commission d'enquête Financement syndicats\"\n",
      "\"Gaz de schiste\"\n",
      "\"bioéthique\"\n",
      "\"Accidents circulation\"\n",
      "\"Loi de finances rectificative pour 2011\"\n",
      "\"Immigration\"\n",
      "\"Autisme\"\n",
      "\"Langue des signes\"\n",
      "\"Famille\"\n",
      "\"Commerce extérieur\"\n",
      "\"Alternance\"\n",
      "\"Justice pénale\"\n",
      "\"Collectivités article 73 C\"\n",
      "\"Français de l'étranger\"\n",
      "\"Polynésie française\"\n",
      "\"Transports\"\n",
      "\"Budget, comptes publics et réforme de l'État\"\n",
      "\"Fonction publique\"\n",
      "\"Défense et anciens combattants (secrétariat d'État)\"\n",
      "\"Guyane-Martinique\"\n",
      "\"Français de l'étranger\"\n",
      "\u001b[K"
     ]
    }
   ],
   "source": [
    "jq '.export.organes.organe[].libelleAbrege' data/AMO30_tous_acteurs_tous_mandats_tous_organes_historique.json | more"
   ]
  },
  {
   "cell_type": "markdown",
   "metadata": {},
   "source": [
    "Interesting. Just to play with array selector, let's take the same names between the organs 36 and 43. The function __range(35-42)__ will do the trick:"
   ]
  },
  {
   "cell_type": "code",
   "execution_count": 17,
   "metadata": {
    "collapsed": false
   },
   "outputs": [
    {
     "name": "stdout",
     "output_type": "stream",
     "text": [
      "\"Ventes aux enchères publiques\"\n",
      "\"Commission d'enquête Produits financiers à risque\"\n",
      "\"Commission d'enquête Financement syndicats\"\n",
      "\"Gaz de schiste\"\n",
      "\"bioéthique\"\n",
      "\"Accidents circulation\"\n",
      "\"Loi de finances rectificative pour 2011\"\n",
      "\"Immigration\"\n",
      "\"Autisme\"\n",
      "\"Langue des signes\"\n",
      "\"Famille\"\n",
      "\"Commerce extérieur\"\n",
      "\"Alternance\"\n",
      "\"Justice pénale\"\n",
      "\"Collectivités article 73 C\"\n",
      "\"Français de l'étranger\"\n",
      "\"Polynésie française\"\n",
      "\"Transports\"\n",
      "\"Budget, comptes publics et réforme de l'État\"\n",
      "\"Fonction publique\"\n",
      "\"Défense et anciens combattants (secrétariat d'État)\"\n",
      "\"Guyane-Martinique\"\n",
      "\"Français de l'étranger\"\n",
      "\u001b[K"
     ]
    }
   ],
   "source": [
    "jq '.export.organes.organe[range(35,42)].libelleAbrege' data/AMO30_tous_acteurs_tous_mandats_tous_organes_historique.json | more"
   ]
  },
  {
   "cell_type": "markdown",
   "metadata": {},
   "source": [
    "Where an other syntax within the brackets would lead to only select:"
   ]
  },
  {
   "cell_type": "code",
   "execution_count": 20,
   "metadata": {
    "collapsed": false
   },
   "outputs": [
    {
     "name": "stdout",
     "output_type": "stream",
     "text": [
      "\"Délégation sénatoriale à l'Outre-mer\"\n",
      "\"Commémoration 11 novembre\"\n",
      "\"Ports d'outre-mer\"\n"
     ]
    }
   ],
   "source": [
    "jq '.export.organes.organe[35,42,43].libelleAbrege' data/AMO30_tous_acteurs_tous_mandats_tous_organes_historique.json | more"
   ]
  },
  {
   "cell_type": "markdown",
   "metadata": {},
   "source": [
    "## Erasing some parts\n",
    "Some times, it might be convenient to remove some irrelevant features or object. This is made possible by the __del()__ function. \n",
    "For instance, with there is more than one category of object aside __organes__?"
   ]
  },
  {
   "cell_type": "code",
   "execution_count": 21,
   "metadata": {
    "collapsed": false
   },
   "outputs": [
    {
     "name": "stdout",
     "output_type": "stream",
     "text": [
      "{\n",
      "  \"@xmlns:xsi\": \"http://www.w3.org/2001/XMLSchema-instance\",\n",
      "  \"acteurs\": {\n",
      "    \"acteur\": [\n",
      "      {\n",
      "        \"uid\": {\n",
      "          \"@xsi:type\": \"IdActeur_type\",\n",
      "          \"#text\": \"PA1300\"\n",
      "        },\n",
      "        \"etatCivil\": {\n",
      "          \"ident\": {\n",
      "            \"civ\": \"M.\",\n",
      "            \"prenom\": \"Jean-Michel\",\n",
      "            \"nom\": \"Ferrand\",\n",
      "            \"alpha\": \"Ferrand\",\n",
      "            \"trigramme\": null\n",
      "          },\n",
      "          \"infoNaissance\": {\n",
      "            \"dateNais\": \"1942-08-31\",\n",
      "            \"villeNais\": \"Gardanne\",\n",
      "            \"depNais\": \"Bouches-du-Rhône\",\n",
      "            \"paysNais\": null\n",
      "          },\n",
      "\u001b[K\n"
     ]
    }
   ],
   "source": [
    "jq '.export | del(.organes)' data/AMO30_tous_acteurs_tous_mandats_tous_organes_historique.json | more"
   ]
  },
  {
   "cell_type": "markdown",
   "metadata": {},
   "source": [
    "Basically, the parameter for the __del()__ function is the path you want to erase. It could be also some elements of a given array with a syntax like __del(.array[x])__.\n",
    "# Exports\n",
    "\n",
    "## To Json\n",
    "Unlike what one would argue, this trick allows to make smaller json, easyer to process. For instance, let's assume we want to work with only the people _actors_. "
   ]
  },
  {
   "cell_type": "code",
   "execution_count": 2,
   "metadata": {
    "collapsed": false
   },
   "outputs": [
    {
     "name": "stdout",
     "output_type": "stream",
     "text": [
      "{\n",
      "  \"acteur\": [\n",
      "    {\n",
      "      \"uid\": {\n",
      "        \"@xsi:type\": \"IdActeur_type\",\n",
      "        \"#text\": \"PA1300\"\n",
      "      },\n",
      "      \"etatCivil\": {\n",
      "        \"ident\": {\n",
      "          \"civ\": \"M.\",\n"
     ]
    }
   ],
   "source": [
    "jq '.export | del(.organes) | .acteurs' data/AMO30_tous_acteurs_tous_mandats_tous_organes_historique.json > data/acteurs.json"
   ]
  },
  {
   "cell_type": "code",
   "execution_count": 3,
   "metadata": {
    "collapsed": false
   },
   "outputs": [
    {
     "name": "stdout",
     "output_type": "stream",
     "text": [
      "{\n",
      "  \"acteur\": [\n",
      "    {\n",
      "      \"uid\": {\n",
      "        \"@xsi:type\": \"IdActeur_type\",\n",
      "        \"#text\": \"PA1300\"\n",
      "      },\n",
      "      \"etatCivil\": {\n",
      "        \"ident\": {\n",
      "          \"civ\": \"M.\",\n",
      "          \"prenom\": \"Jean-Michel\",\n",
      "          \"nom\": \"Ferrand\",\n",
      "          \"alpha\": \"Ferrand\",\n",
      "          \"trigramme\": null\n",
      "        },\n"
     ]
    }
   ],
   "source": [
    "head -15 data/acteurs.json"
   ]
  },
  {
   "cell_type": "markdown",
   "metadata": {
    "collapsed": false
   },
   "source": [
    "## To csv\n",
    "This is usually the end-goal to this kind of manipulation. \n",
    "* Generate a table;\n",
    "* Pipe it through the __@csv__ filter;\n",
    "* Save it as a csv file."
   ]
  },
  {
   "cell_type": "code",
   "execution_count": 24,
   "metadata": {
    "collapsed": false
   },
   "outputs": [],
   "source": [
    "jq -r '.acteur[] | [.etatCivil.ident.prenom,.etatCivil.ident.nom] | @csv' data/acteurs.json > data/acteurs.csv"
   ]
  },
  {
   "cell_type": "code",
   "execution_count": 25,
   "metadata": {
    "collapsed": false
   },
   "outputs": [
    {
     "name": "stdout",
     "output_type": "stream",
     "text": [
      "\"Jean-Michel\",\"Ferrand\"\n",
      "\"Alain\",\"Ferry\"\n",
      "\"Daniel\",\"Fidelin\"\n",
      "\"Jean-Yves\",\"Besselat\"\n",
      "\"Simon\",\"Renucci\"\n",
      "\"Jean-Marie\",\"Rolland\"\n",
      "\"Hervé\",\"Novelli\"\n",
      "\"Vincent\",\"Descoeur\"\n",
      "\"Bernard\",\"Depierre\"\n",
      "\"Marie-Françoise\",\"Perol-Dumont\"\n",
      "\"Louis\",\"Aliot\"\n",
      "\"Frédérique\",\"Tuffnell\"\n",
      "\"Éric\",\"Poulliat\"\n",
      "\"Florence\",\"Lasserre-David\"\n",
      "\"Olivia\",\"Gregoire\"\n"
     ]
    }
   ],
   "source": [
    "head -15 data/acteurs.csv"
   ]
  },
  {
   "cell_type": "markdown",
   "metadata": {},
   "source": [
    "The next step? Well, you got yourself a csv file. Congrats, the hardest has yet to come: clean your data with pandas in python or sed/vi. Well, that part is usually more explained."
   ]
  },
  {
   "cell_type": "code",
   "execution_count": null,
   "metadata": {
    "collapsed": true
   },
   "outputs": [],
   "source": []
  }
 ],
 "metadata": {
  "kernelspec": {
   "display_name": "Bash",
   "language": "bash",
   "name": "bash"
  },
  "language_info": {
   "codemirror_mode": "shell",
   "file_extension": ".sh",
   "mimetype": "text/x-sh",
   "name": "bash"
  }
 },
 "nbformat": 4,
 "nbformat_minor": 2
}
